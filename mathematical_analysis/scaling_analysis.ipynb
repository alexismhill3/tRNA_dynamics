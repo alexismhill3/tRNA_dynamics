{
 "cells": [
  {
   "cell_type": "code",
   "execution_count": 20,
   "id": "6701f53f-6ad7-4f0f-9740-5a5499cbe2c8",
   "metadata": {},
   "outputs": [],
   "source": [
    "import pandas as pd\n",
    "import seaborn as sns\n",
    "import matplotlib.pyplot as plt\n",
    "from sympy import symbols, Eq, solve, nsolve"
   ]
  },
  {
   "cell_type": "code",
   "execution_count": 21,
   "id": "08860816-4b49-4956-8bdf-6ddd971dc3cb",
   "metadata": {},
   "outputs": [],
   "source": [
    "from matplotlib.colors import LogNorm\n",
    "from matplotlib import rcParams"
   ]
  },
  {
   "cell_type": "markdown",
   "id": "dde04c0a-da57-40d9-8c59-aaaf569db6f6",
   "metadata": {},
   "source": [
    "Define symbols for two codon model"
   ]
  },
  {
   "cell_type": "code",
   "execution_count": 22,
   "id": "ae46809e-41ce-4902-a5f0-33a1a9110b6c",
   "metadata": {},
   "outputs": [],
   "source": [
    "Tt1, Tt2, Tc1, Tc2, Rb1, Rb2, fopt = symbols('Tt1 Tt2 Tc1 Tc2 Rb1 Rb2 fopt')\n",
    "Rt, Rb, Tt, Tc, N, L, Ksp, Kbd, Kch = symbols('Rt Rb Tt Tc N L Ksp Kbd Kch')"
   ]
  },
  {
   "cell_type": "markdown",
   "id": "f0c0d636-e2c6-4307-abab-cc880f47588b",
   "metadata": {},
   "source": [
    "Define equilibrium equations for two codon model"
   ]
  },
  {
   "cell_type": "code",
   "execution_count": 23,
   "id": "3d959b41-6b7c-4137-8a29-fabee62615c6",
   "metadata": {},
   "outputs": [],
   "source": [
    "eq1 = Eq((Rt-Rb1-Rb2)*Kbd*N, (Tc1*Rb1+Tc2*Rb2)*Ksp*(1/L)) \n",
    "eq2 = Eq(Tc1*Rb1*(1-fopt), Tc2*Rb2*fopt)"
   ]
  },
  {
   "cell_type": "code",
   "execution_count": 24,
   "id": "2751b016-661a-40ec-accd-be68148f5320",
   "metadata": {},
   "outputs": [],
   "source": [
    "eq3 = Eq((Tt1-Tc1)*Kch, Tc1*Rb1*Ksp)\n",
    "eq4 = Eq((Tt2-Tc2)*Kch, Tc2*Rb2*Ksp)"
   ]
  },
  {
   "cell_type": "code",
   "execution_count": 110,
   "id": "1c21f606-d6e6-4c52-ba00-da7b5555ed97",
   "metadata": {},
   "outputs": [],
   "source": [
    "# this function is identical to wrapper.solve_numeric except it allows for sweeps over multiple sets of initial conditions\n",
    "# only ended up using it for this analysis, so I didn't bother refactoring it and moving it into the wrapper module\n",
    "\n",
    "from copy import copy\n",
    "\n",
    "def param_sweep_multi(fixed_params, \n",
    "                targets, \n",
    "                vals,\n",
    "                names,\n",
    "                _vals = None, \n",
    "                time=100, \n",
    "                fop_max=100,\n",
    "                interval=1,\n",
    "                verbose=True,\n",
    "                solver=\"mnewton\",\n",
    "                guess=[15,15,15,15]):\n",
    "    \"\"\"\n",
    "    Solve numerically for Rb1, Tc1, Rb2, and Tc2 using an mnewton solver.\n",
    "    \n",
    "    params:\n",
    "        fix_params: model parameters with fixed values\n",
    "        target: model parameter to vary (a sympy Symbol object)\n",
    "        vals: values for the target parameter\n",
    "        _vals: optional, list of transformed target values\n",
    "        name: name to use for the target parameter\n",
    "        time: corresponds to seconds of simulation time\n",
    "    \"\"\"\n",
    "    fopts = [x/100 for x in range(0, fop_max+1, interval)]\n",
    "    df = None\n",
    "    for i in range(len(vals[0])):\n",
    "        for j in range(len(vals)):\n",
    "            params[targets[j]] = vals[j][i]\n",
    "        if verbose:\n",
    "            print(params)\n",
    "        solutions = []\n",
    "        xvals = []\n",
    "        for f in fopts:\n",
    "            cp = copy(params)\n",
    "            cp[fopt] = f\n",
    "            Eq1 = eq1.evalf(subs=cp)\n",
    "            Eq2 = eq2.evalf(subs=cp)\n",
    "            Eq3 = eq3.evalf(subs=cp)\n",
    "            Eq4 = eq4.evalf(subs=cp)\n",
    "            for guess in range(10, 100):\n",
    "                try:\n",
    "                    solution = nsolve([Eq1, Eq2, Eq3, Eq4], \n",
    "                                      [Rb1, Rb2, Tc1, Tc2], \n",
    "                                      [guess, guess, guess, guess], \n",
    "                                      dict=True, \n",
    "                                      solver=solver)\n",
    "                except Exception:\n",
    "                    pass\n",
    "                else:\n",
    "                    solutions.append(solution)\n",
    "                    xvals.append(f)\n",
    "                    break\n",
    "        rb1 = [float(x[0][Rb1]) for x in solutions]\n",
    "        rb2 = [float(x[0][Rb2]) for x in solutions]\n",
    "        tc1 = [float(x[0][Tc1]) for x in solutions]\n",
    "        tc2 = [float(x[0][Tc2]) for x in solutions]\n",
    "        tmp = pd.DataFrame({\"fopt\": xvals,\n",
    "                             \"rb1\": rb1,\n",
    "                             \"rb2\": rb2,\n",
    "                             \"tc1\": tc1,\n",
    "                             \"tc2\": tc2})\n",
    "        for idx, name in enumerate(names):\n",
    "            tmp[name] = vals[idx][i]\n",
    "        tmp[\"tu1\"] = float(params[Tt1]) - tmp[\"tc1\"]\n",
    "        tmp[\"tu2\"] = float(params[Tt2]) - tmp[\"tc2\"]\n",
    "        # formula for calculating total protein from Tu1\n",
    "        tmp[\"protein\"] = (time*float(params[Kch])*tmp[\"tu1\"]) / (tmp[\"fopt\"] * float(params[L]))\n",
    "        tmp[\"Rb\"] = tmp[\"rb1\"] + tmp[\"rb2\"]\n",
    "        tmp[\"Tc\"] = tmp[\"tc1\"] + tmp[\"tc2\"]\n",
    "        \n",
    "        if _vals:\n",
    "            tmp[f'{name}_'] = _vals[idx]\n",
    "        if df is not None:\n",
    "            df = df.append(tmp, ignore_index=True)\n",
    "        else:\n",
    "            df = tmp\n",
    "    \n",
    "    return df"
   ]
  },
  {
   "cell_type": "markdown",
   "id": "684faec8-d098-46e0-a5da-ad9beb84d68c",
   "metadata": {},
   "source": [
    "Here we'll scale simulations according to the tRNA scaling relationship (\"Scaling law\" section of manuscript)"
   ]
  },
  {
   "cell_type": "code",
   "execution_count": 111,
   "id": "8f310d47-933b-4c21-ae01-361ece52383b",
   "metadata": {},
   "outputs": [
    {
     "name": "stdout",
     "output_type": "stream",
     "text": [
      "{N: 100, Kbd: 0.005, Rt: 500, L: 300, Tt1: 175, Tt2: 75, Kch: 300, Ksp: 0.5}\n",
      "{N: 100, Kbd: 0.005, Rt: 500, L: 300, Tt1: 1750, Tt2: 750, Kch: 30, Ksp: 0.05}\n",
      "{N: 100, Kbd: 0.005, Rt: 500, L: 300, Tt1: 17500, Tt2: 7500, Kch: 3, Ksp: 0.005}\n",
      "{N: 100, Kbd: 0.005, Rt: 500, L: 300, Tt1: 175, Tt2: 75, Kch: 300, Ksp: 5}\n",
      "{N: 100, Kbd: 0.005, Rt: 500, L: 300, Tt1: 1750, Tt2: 750, Kch: 30, Ksp: 0.5}\n",
      "{N: 100, Kbd: 0.005, Rt: 500, L: 300, Tt1: 17500, Tt2: 7500, Kch: 3, Ksp: 0.05}\n",
      "{N: 100, Kbd: 0.005, Rt: 500, L: 300, Tt1: 175, Tt2: 75, Kch: 300, Ksp: 0.05}\n",
      "{N: 100, Kbd: 0.005, Rt: 500, L: 300, Tt1: 1750, Tt2: 750, Kch: 30, Ksp: 0.005}\n",
      "{N: 100, Kbd: 0.005, Rt: 500, L: 300, Tt1: 17500, Tt2: 7500, Kch: 3, Ksp: 0.0005}\n"
     ]
    }
   ],
   "source": [
    "# total tRNAs of 2500, 25000, and 250000\n",
    "# values scaled such that changing the tRNA abundance doesn't shift the curve\n",
    "\n",
    "params = {N: 100,\n",
    "       Kbd: 0.005,\n",
    "#       Kch: 30,\n",
    "       Rt: 500,\n",
    "#       Tt1: 1750,\n",
    "#       Tt2: 750,\n",
    "#       Ksp: 0.05,\n",
    "       L: 300}\n",
    "\n",
    "trna1 = [175, 1750, 17500]\n",
    "trna2 = [75, 750, 7500]\n",
    "k_ch = [300, 30, 3]\n",
    "k_sp = [0.5, 0.05, 0.005]\n",
    "df_07_tscale_05 = param_sweep_multi(params, \n",
    "                                  [Tt1, Tt2, Kch, Ksp], \n",
    "                                  [trna1, trna2, k_ch, k_sp], \n",
    "                                  [\"Tt1\", \"Tt2\", \"kch\", \"ksp\"],\n",
    "                                   interval=5,\n",
    "                                   guess=[20,20,20,20]) \n",
    "\n",
    "trna1 = [175, 1750, 17500]\n",
    "trna2 = [75, 750, 7500]\n",
    "k_ch = [300, 30, 3]\n",
    "k_sp = [5, 0.5, 0.05]\n",
    "df_07_tscale_5 = param_sweep_multi(params, \n",
    "                                  [Tt1, Tt2, Kch, Ksp], \n",
    "                                  [trna1, trna2, k_ch, k_sp], \n",
    "                                  [\"Tt1\", \"Tt2\", \"kch\", \"ksp\"],\n",
    "                                   interval=5,\n",
    "                                  guess=[14.5,14.5,14.5,14.5])\n",
    "\n",
    "trna1 = [175, 1750, 17500]\n",
    "trna2 = [75, 750, 7500]\n",
    "k_ch = [300, 30, 3]\n",
    "k_sp = [0.05, 0.005, 0.0005]\n",
    "df_07_tscale_005 = param_sweep_multi(params, \n",
    "                                  [Tt1, Tt2, Kch, Ksp], \n",
    "                                  [trna1, trna2, k_ch, k_sp], \n",
    "                                  [\"Tt1\", \"Tt2\", \"kch\", \"ksp\"],\n",
    "                                   interval=5,\n",
    "                                   guess=[20,20,20,20]) "
   ]
  },
  {
   "cell_type": "code",
   "execution_count": 112,
   "id": "615d4df3-15f8-4f2d-b51d-f5c8dc1b49e9",
   "metadata": {},
   "outputs": [],
   "source": [
    "df_07_tscale_05[\"kspeed_factor\"] = 1\n",
    "df_07_tscale_5[\"kspeed_factor\"] = 10\n",
    "df_07_tscale_005[\"kspeed_factor\"] = 0.1\n",
    "\n",
    "df_07_trna_scaling = pd.concat([df_07_tscale_05, df_07_tscale_5, df_07_tscale_005]).reset_index()"
   ]
  },
  {
   "cell_type": "code",
   "execution_count": 113,
   "id": "aaa0f123-2002-416d-b5df-76a1f4a40aa9",
   "metadata": {},
   "outputs": [],
   "source": [
    "norm1 = LogNorm(vmin=0.1, vmax=10) \n",
    "\n",
    "df_07_trna_scaling[\"protein_expr_rate\"] = df_07_trna_scaling[\"protein\"] / 100"
   ]
  },
  {
   "cell_type": "code",
   "execution_count": 114,
   "id": "223bb358-d507-4cd8-9318-5f2837649f56",
   "metadata": {},
   "outputs": [
    {
     "data": {
      "text/plain": [
       "<matplotlib.legend.Legend at 0x7f50a925cb50>"
      ]
     },
     "execution_count": 114,
     "metadata": {},
     "output_type": "execute_result"
    },
    {
     "data": {
      "image/png": "[encoded data removed]",
      "text/plain": [
       "<Figure size 360x360 with 1 Axes>"
      ]
     },
     "metadata": {},
     "output_type": "display_data"
    }
   ],
   "source": [
    "#fig, ax = plt.subplots(1, 2) #figsize=(24, 6)\n",
    "\n",
    "plt.rcParams['figure.figsize'] = [5, 5]\n",
    "plt.rcParams[\"text.usetex\"] = False\n",
    "#plt.rcParams[\"font.family\"] = \"serif\"\n",
    "plt.rcParams[\"font.size\"] = \"8\"\n",
    "plt.rcParams[\"mathtext.default\"] = \"regular\"\n",
    "\n",
    "sns.set_style(\"ticks\")\n",
    "\n",
    "palette = sns.color_palette(\"icefire_r\", as_cmap=True)\n",
    "\n",
    "import numpy as np\n",
    "def jitter(arr, amount=1):\n",
    "    return arr + np.random.uniform(-amount, amount, size=len(arr))\n",
    "\n",
    "g1 = sns.scatterplot(data=df_07_trna_scaling, \n",
    "                 x=\"fopt\", \n",
    "                 y=jitter(df_07_trna_scaling[\"protein_expr_rate\"]), \n",
    "                 style=\"Tt1\",\n",
    "                 #style=\"Tt1\",\n",
    "                 hue=\"kspeed_factor\",\n",
    "                 hue_norm=norm1,\n",
    "                 palette=palette,\n",
    "                 #linewidth=4\n",
    "                    )   \n",
    "g1.set_xlabel(r\"$f_{op}$\")\n",
    "#g1.set_ylim(0, 110)\n",
    "g1.set_ylabel(\"protein mols. per second\")\n",
    "#g1.set_title(\"total tRNAs = 2500\")\n",
    "g1.legend(loc=\"lower left\")\n",
    "#g1.axvline(0.7, alpha=0.3, color=\"grey\")"
   ]
  },
  {
   "cell_type": "markdown",
   "id": "629170fe-4620-4794-a69f-6e474e27b78c",
   "metadata": {},
   "source": [
    "Above figure shows that we can increase the total number of tRNAs without changing the protein expression rate, as long as we divide kcharge and kspeed by the scaling factor. We do this for three different sets of simulations with different baseline initial conditions so three different curves are produced."
   ]
  },
  {
   "cell_type": "code",
   "execution_count": 119,
   "id": "b58eb7be-0c8e-4e0f-b7de-e3ab0900289b",
   "metadata": {},
   "outputs": [
    {
     "data": {
      "text/plain": [
       "<matplotlib.legend.Legend at 0x7f50a84acfa0>"
      ]
     },
     "execution_count": 119,
     "metadata": {},
     "output_type": "execute_result"
    },
    {
     "data": {
      "image/png": "[encoded data removed]",
      "text/plain": [
       "<Figure size 360x360 with 1 Axes>"
      ]
     },
     "metadata": {},
     "output_type": "display_data"
    }
   ],
   "source": [
    "#fig, ax = plt.subplots(1, 2) #figsize=(24, 6)\n",
    "\n",
    "plt.rcParams['figure.figsize'] = [5, 5]\n",
    "plt.rcParams[\"text.usetex\"] = False\n",
    "#plt.rcParams[\"font.family\"] = \"serif\"\n",
    "plt.rcParams[\"font.size\"] = \"8\"\n",
    "plt.rcParams[\"mathtext.default\"] = \"regular\"\n",
    "\n",
    "sns.set_style(\"ticks\")\n",
    "\n",
    "palette = sns.color_palette(\"icefire_r\", as_cmap=True)\n",
    "\n",
    "import numpy as np\n",
    "def jitter(arr, amount=10):\n",
    "    return arr + np.random.uniform(-amount, amount, size=len(arr))\n",
    "\n",
    "g1 = sns.scatterplot(data=df_07_trna_scaling[(df_07_trna_scaling.kspeed_factor==10)], \n",
    "                 x=\"fopt\", \n",
    "                 s=40,\n",
    "                 y=jitter(df_07_trna_scaling[\"protein_expr_rate\"]),\n",
    "                 #y=\"protein_expr_rate\",\n",
    "                 #style=\"Tt1\",\n",
    "                 hue=\"Tt1\",\n",
    "                 palette=palette,\n",
    "                 #linewidth=4\n",
    "                    )   \n",
    "g1.set_xlabel(r\"$f_{op}$\")\n",
    "#g1.set_ylim(0, 110)\n",
    "g1.set_ylabel(\"protein mols. per second\")\n",
    "#g1.set_title(\"total tRNAs = 2500\")\n",
    "g1.legend(loc=\"lower right\")\n",
    "#g1.axvline(0.7, alpha=0.3, color=\"grey\")"
   ]
  },
  {
   "cell_type": "code",
   "execution_count": 13,
   "id": "cea35351-5f1d-4456-9f3e-760c6a175217",
   "metadata": {},
   "outputs": [
    {
     "name": "stdout",
     "output_type": "stream",
     "text": [
      "{N: 100, Kch: 30, Tt1: 1750, Tt2: 750, L: 300, Rt: 50, Kbd: 0.005, Ksp: 0.5}\n",
      "{N: 100, Kch: 30, Tt1: 1750, Tt2: 750, L: 300, Rt: 500, Kbd: 0.0005, Ksp: 0.05}\n",
      "{N: 100, Kch: 30, Tt1: 1750, Tt2: 750, L: 300, Rt: 5000, Kbd: 5e-05, Ksp: 0.005}\n",
      "{N: 100, Kch: 30, Tt1: 1750, Tt2: 750, L: 300, Rt: 50, Kbd: 0.05, Ksp: 0.5}\n",
      "{N: 100, Kch: 30, Tt1: 1750, Tt2: 750, L: 300, Rt: 500, Kbd: 0.005, Ksp: 0.05}\n",
      "{N: 100, Kch: 30, Tt1: 1750, Tt2: 750, L: 300, Rt: 5000, Kbd: 0.0005, Ksp: 0.005}\n",
      "{N: 100, Kch: 30, Tt1: 1750, Tt2: 750, L: 300, Rt: 50, Kbd: 0.5, Ksp: 0.5}\n",
      "{N: 100, Kch: 30, Tt1: 1750, Tt2: 750, L: 300, Rt: 500, Kbd: 0.05, Ksp: 0.05}\n",
      "{N: 100, Kch: 30, Tt1: 1750, Tt2: 750, L: 300, Rt: 5000, Kbd: 0.005, Ksp: 0.005}\n",
      "{N: 100, Kch: 30, Tt1: 1750, Tt2: 750, L: 300, Rt: 50, Kbd: 5, Ksp: 0.5}\n",
      "{N: 100, Kch: 30, Tt1: 1750, Tt2: 750, L: 300, Rt: 500, Kbd: 0.5, Ksp: 0.05}\n",
      "{N: 100, Kch: 30, Tt1: 1750, Tt2: 750, L: 300, Rt: 5000, Kbd: 0.05, Ksp: 0.005}\n"
     ]
    }
   ],
   "source": [
    "# total ribosomes of 50, 500, 5000\n",
    "# Kbd scaled by 0.1, 1, 10, 100 (relative to baseline model)\n",
    "# values are also scaled such that changing the ribosome abundance doesn't shift the curve\n",
    "\n",
    "params = {N: 100,\n",
    "#       Kbd: 0.005,\n",
    "       Kch: 30,\n",
    "#       Rt: 500,\n",
    "       Tt1: 1750,\n",
    "       Tt2: 750,\n",
    "#       Ksp: 0.05,\n",
    "       L: 300}\n",
    "\n",
    "\n",
    "rib = [50, 500, 5000]\n",
    "k_bd = [0.005, 0.0005, 0.00005]\n",
    "k_sp = [0.5, 0.05, 0.005]\n",
    "df_07_rscale_0005 = param_sweep_multi(params, \n",
    "                                  [Rt, Kbd, Ksp], \n",
    "                                  [rib, k_bd, k_sp], \n",
    "                                  [\"Rib\", \"kbd\", \"ksp\"],\n",
    "                                   interval=5) \n",
    "\n",
    "# has the same parameter scales as the baseline model\n",
    "rib = [50, 500, 5000]\n",
    "k_bd = [0.05, 0.005, 0.0005]\n",
    "k_sp = [0.5, 0.05, 0.005]\n",
    "df_07_rscale_005 = param_sweep_multi(params, \n",
    "                                  [Rt, Kbd, Ksp], \n",
    "                                  [rib, k_bd, k_sp], \n",
    "                                  [\"Rib\", \"kbd\", \"ksp\"],\n",
    "                                   interval=5) \n",
    "\n",
    "rib = [50, 500, 5000]\n",
    "k_bd = [0.5, 0.05, 0.005]\n",
    "k_sp = [0.5, 0.05, 0.005]\n",
    "df_07_rscale_05 = param_sweep_multi(params, \n",
    "                                  [Rt, Kbd, Ksp], \n",
    "                                  [rib, k_bd, k_sp], \n",
    "                                  [\"Rib\", \"kbd\", \"ksp\"],\n",
    "                                   interval=5)\n",
    "\n",
    "rib = [50, 500, 5000]\n",
    "k_bd = [5, 0.5, 0.05]\n",
    "k_sp = [0.5, 0.05, 0.005]\n",
    "df_07_rscale_5 = param_sweep_multi(params, \n",
    "                                  [Rt, Kbd, Ksp], \n",
    "                                  [rib, k_bd, k_sp], \n",
    "                                  [\"Rib\", \"kbd\", \"ksp\"],\n",
    "                                   interval=5)"
   ]
  },
  {
   "cell_type": "code",
   "execution_count": 14,
   "id": "f5c3b187-637a-40a6-ac08-8de9c08c54bf",
   "metadata": {},
   "outputs": [],
   "source": [
    "df_07_rscale_0005[\"kbd_factor\"] = 0.1\n",
    "df_07_rscale_005[\"kbd_factor\"] = 1\n",
    "df_07_rscale_05[\"kbd_factor\"] = 10\n",
    "df_07_rscale_5[\"kbd_factor\"] = 100\n",
    "\n",
    "df_07_ribosome_scaling = pd.concat([df_07_rscale_0005, df_07_rscale_005, df_07_rscale_05, df_07_rscale_5]).reset_index()"
   ]
  },
  {
   "cell_type": "code",
   "execution_count": 15,
   "id": "2427327a-a233-46c5-9001-dc1e484513e6",
   "metadata": {},
   "outputs": [],
   "source": [
    "norm1 = LogNorm(vmin=0.1, vmax=100) \n",
    "\n",
    "df_07_ribosome_scaling[\"protein_expr_rate\"] = df_07_ribosome_scaling[\"protein\"] / 100"
   ]
  },
  {
   "cell_type": "code",
   "execution_count": null,
   "id": "bd621646-421f-4bbf-a5c2-2c3f700b8bca",
   "metadata": {},
   "outputs": [
    {
     "data": {
      "text/plain": [
       "<matplotlib.legend.Legend at 0x7f50ac448130>"
      ]
     },
     "execution_count": 16,
     "metadata": {},
     "output_type": "execute_result"
    },
    {
     "data": {
      "image/png": "[encoded data removed]",
      "text/plain": [
       "<Figure size 360x360 with 1 Axes>"
      ]
     },
     "metadata": {},
     "output_type": "display_data"
    }
   ],
   "source": [
    "#fig, ax = plt.subplots(1, 2) #figsize=(24, 6)\n",
    "\n",
    "plt.rcParams['figure.figsize'] = [5, 5]\n",
    "plt.rcParams[\"text.usetex\"] = False\n",
    "#plt.rcParams[\"font.family\"] = \"serif\"\n",
    "plt.rcParams[\"font.size\"] = \"8\"\n",
    "plt.rcParams[\"mathtext.default\"] = \"regular\"\n",
    "\n",
    "sns.set_style(\"ticks\")\n",
    "\n",
    "palette = sns.color_palette(\"icefire_r\", as_cmap=True)\n",
    "\n",
    "import numpy as np\n",
    "def jitter(arr, amount=1):\n",
    "    return arr + np.random.uniform(-amount, amount, size=len(arr))\n",
    "\n",
    "g1 = sns.scatterplot(data=df_07_ribosome_scaling, \n",
    "                 x=\"fopt\", \n",
    "                 y=jitter(df_07_ribosome_scaling[\"protein_expr_rate\"]), \n",
    "                 style=\"Rib\",\n",
    "                 #style=\"Tt1\",\n",
    "                 hue=\"kbd_factor\",\n",
    "                 hue_norm=norm1,\n",
    "                 palette=palette,\n",
    "                 #linewidth=4\n",
    "                    )   \n",
    "g1.set_xlabel(r\"$f_{op}$\")\n",
    "#g1.set_ylim(0, 110)\n",
    "g1.set_ylabel(\"protein mols. per second\")\n",
    "#g1.set_title(\"total tRNAs = 2500\")\n",
    "g1.legend(loc=\"lower left\")\n",
    "#g1.axvline(0.7, alpha=0.3, color=\"grey\")"
   ]
  },
  {
   "cell_type": "markdown",
   "id": "d8ac0e83-8eb4-42f1-bace-a2a914a4fe1c",
   "metadata": {},
   "source": [
    "Above figure shows that we can also do this with total ribosome content"
   ]
  },
  {
   "cell_type": "code",
   "execution_count": 120,
   "id": "9fc7cfc3-a123-47d4-b60f-350a39813ff4",
   "metadata": {},
   "outputs": [],
   "source": [
    "df_07_trna_scaling.to_csv(\"parameter_scaling_trna_kspeed.csv\")"
   ]
  },
  {
   "cell_type": "code",
   "execution_count": 19,
   "id": "ddf0a249-6ec4-4e1b-921b-632aacd04db3",
   "metadata": {},
   "outputs": [],
   "source": [
    "df_07_ribosome_scaling.to_csv(\"parameter_scaling_ribosome_kbind.csv\")"
   ]
  },
  {
   "cell_type": "code",
   "execution_count": null,
   "id": "1fc26a4b-9c29-410f-b887-8048d4f208ae",
   "metadata": {},
   "outputs": [],
   "source": []
  }
 ],
 "metadata": {
  "kernelspec": {
   "display_name": "Python 3 (ipykernel)",
   "language": "python",
   "name": "python3"
  },
  "language_info": {
   "codemirror_mode": {
    "name": "ipython",
    "version": 3
   },
   "file_extension": ".py",
   "mimetype": "text/x-python",
   "name": "python",
   "nbconvert_exporter": "python",
   "pygments_lexer": "ipython3",
   "version": "3.8.12"
  }
 },
 "nbformat": 4,
 "nbformat_minor": 5
}
